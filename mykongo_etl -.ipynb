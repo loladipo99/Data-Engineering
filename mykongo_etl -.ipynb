{
 "cells": [
  {
   "cell_type": "markdown",
   "metadata": {},
   "source": [
    "# Importing Necessary Dependencies"
   ]
  },
  {
   "cell_type": "code",
   "execution_count": 1,
   "metadata": {},
   "outputs": [],
   "source": [
    "import pandas as pd \n",
    "import psycopg2\n",
    "import boto3 # pip install boto3\n",
    "from botocore.exceptions import NoCredentialsError\n",
    "import os\n",
    "import io\n",
    "from io import StringIO\n",
    "import redshift_connector    # pip install redshift-connector"
   ]
  },
  {
   "cell_type": "markdown",
   "metadata": {},
   "source": [
    "# Extraction Layer"
   ]
  },
  {
   "cell_type": "code",
   "execution_count": 2,
   "metadata": {},
   "outputs": [],
   "source": [
    "# Establishing connection\n",
    "db_params = {\n",
    "    'host': 'localhost',\n",
    "    'database': 'postgres',\n",
    "    'user': 'postgres',\n",
    "    'password': 'Lanw122l3',\n",
    "    'port': '5432'\n",
    "}"
   ]
  },
  {
   "cell_type": "code",
   "execution_count": 3,
   "metadata": {},
   "outputs": [],
   "source": [
    "# Function to extract all the data from the table\n",
    "def extract_table_to_dataframe(table_name, conn):\n",
    "    query = f\"SELECT * FROM {table_name};\"\n",
    "    df = pd.read_sql_query(query, conn)\n",
    "    return df"
   ]
  },
  {
   "cell_type": "code",
   "execution_count": 4,
   "metadata": {},
   "outputs": [
    {
     "name": "stderr",
     "output_type": "stream",
     "text": [
      "C:\\Users\\Technology\\AppData\\Local\\Temp\\ipykernel_17892\\389356992.py:4: UserWarning: pandas only supports SQLAlchemy connectable (engine/connection) or database string URI or sqlite3 DBAPI2 connection. Other DBAPI2 objects are not tested. Please consider using SQLAlchemy.\n",
      "  df = pd.read_sql_query(query, conn)\n"
     ]
    }
   ],
   "source": [
    "# Extracting the carts data into a dataframe\n",
    "connection = psycopg2.connect(**db_params)\n",
    "\n",
    "table_name = 'kongo.carts'\n",
    "\n",
    "carts_df = extract_table_to_dataframe(table_name, connection)"
   ]
  },
  {
   "cell_type": "code",
   "execution_count": 5,
   "metadata": {},
   "outputs": [
    {
     "name": "stderr",
     "output_type": "stream",
     "text": [
      "C:\\Users\\Technology\\AppData\\Local\\Temp\\ipykernel_17892\\389356992.py:4: UserWarning: pandas only supports SQLAlchemy connectable (engine/connection) or database string URI or sqlite3 DBAPI2 connection. Other DBAPI2 objects are not tested. Please consider using SQLAlchemy.\n",
      "  df = pd.read_sql_query(query, conn)\n"
     ]
    }
   ],
   "source": [
    "# Extracting the products data into a dataframe\n",
    "connection = psycopg2.connect(**db_params)\n",
    "\n",
    "table_name = 'kongo.products'\n",
    "\n",
    "products_df = extract_table_to_dataframe(table_name, connection)"
   ]
  },
  {
   "cell_type": "code",
   "execution_count": 6,
   "metadata": {},
   "outputs": [
    {
     "name": "stderr",
     "output_type": "stream",
     "text": [
      "C:\\Users\\Technology\\AppData\\Local\\Temp\\ipykernel_17892\\389356992.py:4: UserWarning: pandas only supports SQLAlchemy connectable (engine/connection) or database string URI or sqlite3 DBAPI2 connection. Other DBAPI2 objects are not tested. Please consider using SQLAlchemy.\n",
      "  df = pd.read_sql_query(query, conn)\n"
     ]
    }
   ],
   "source": [
    "# Extracting the sales data into a dataframe\n",
    "connection = psycopg2.connect(**db_params)\n",
    "\n",
    "table_name = 'kongo.sales'\n",
    "\n",
    "sales_df = extract_table_to_dataframe(table_name, connection)"
   ]
  },
  {
   "cell_type": "code",
   "execution_count": 7,
   "metadata": {},
   "outputs": [
    {
     "name": "stderr",
     "output_type": "stream",
     "text": [
      "C:\\Users\\Technology\\AppData\\Local\\Temp\\ipykernel_17892\\389356992.py:4: UserWarning: pandas only supports SQLAlchemy connectable (engine/connection) or database string URI or sqlite3 DBAPI2 connection. Other DBAPI2 objects are not tested. Please consider using SQLAlchemy.\n",
      "  df = pd.read_sql_query(query, conn)\n"
     ]
    }
   ],
   "source": [
    "# Extracting the users data into a dataframe\n",
    "connection = psycopg2.connect(**db_params)\n",
    "\n",
    "table_name = 'kongo.users'\n",
    "\n",
    "users_df = extract_table_to_dataframe(table_name, connection)"
   ]
  },
  {
   "cell_type": "markdown",
   "metadata": {},
   "source": [
    "# Transformation Layer"
   ]
  },
  {
   "cell_type": "code",
   "execution_count": 8,
   "metadata": {},
   "outputs": [
    {
     "name": "stdout",
     "output_type": "stream",
     "text": [
      "<class 'pandas.core.frame.DataFrame'>\n",
      "RangeIndex: 7 entries, 0 to 6\n",
      "Data columns (total 4 columns):\n",
      " #   Column    Non-Null Count  Dtype         \n",
      "---  ------    --------------  -----         \n",
      " 0   id        7 non-null      int64         \n",
      " 1   userid    7 non-null      int64         \n",
      " 2   date      7 non-null      datetime64[ns]\n",
      " 3   products  7 non-null      object        \n",
      "dtypes: datetime64[ns](1), int64(2), object(1)\n",
      "memory usage: 352.0+ bytes\n"
     ]
    }
   ],
   "source": [
    "carts_df.info()"
   ]
  },
  {
   "cell_type": "code",
   "execution_count": 9,
   "metadata": {},
   "outputs": [
    {
     "name": "stdout",
     "output_type": "stream",
     "text": [
      "<class 'pandas.core.frame.DataFrame'>\n",
      "RangeIndex: 10 entries, 0 to 9\n",
      "Data columns (total 13 columns):\n",
      " #   Column                    Non-Null Count  Dtype \n",
      "---  ------                    --------------  ----- \n",
      " 0   id                        10 non-null     int64 \n",
      " 1   email                     10 non-null     object\n",
      " 2   username                  10 non-null     object\n",
      " 3   password                  10 non-null     object\n",
      " 4   phone                     10 non-null     object\n",
      " 5   address_city              10 non-null     object\n",
      " 6   address_street            10 non-null     object\n",
      " 7   address_number            10 non-null     int64 \n",
      " 8   address_zipcode           10 non-null     object\n",
      " 9   address_geolocation_lat   10 non-null     object\n",
      " 10  address_geolocation_long  10 non-null     object\n",
      " 11  name_firstname            10 non-null     object\n",
      " 12  name_lastname             10 non-null     object\n",
      "dtypes: int64(2), object(11)\n",
      "memory usage: 1.1+ KB\n"
     ]
    }
   ],
   "source": [
    "users_df.info()"
   ]
  },
  {
   "cell_type": "code",
   "execution_count": 10,
   "metadata": {},
   "outputs": [
    {
     "name": "stdout",
     "output_type": "stream",
     "text": [
      "<class 'pandas.core.frame.DataFrame'>\n",
      "RangeIndex: 20 entries, 0 to 19\n",
      "Data columns (total 6 columns):\n",
      " #   Column       Non-Null Count  Dtype  \n",
      "---  ------       --------------  -----  \n",
      " 0   id           20 non-null     int64  \n",
      " 1   title        20 non-null     object \n",
      " 2   price        20 non-null     float64\n",
      " 3   category     20 non-null     object \n",
      " 4   description  20 non-null     object \n",
      " 5   image        20 non-null     object \n",
      "dtypes: float64(1), int64(1), object(4)\n",
      "memory usage: 1.1+ KB\n"
     ]
    }
   ],
   "source": [
    "products_df.info()"
   ]
  },
  {
   "cell_type": "code",
   "execution_count": 11,
   "metadata": {},
   "outputs": [
    {
     "name": "stdout",
     "output_type": "stream",
     "text": [
      "<class 'pandas.core.frame.DataFrame'>\n",
      "RangeIndex: 1000 entries, 0 to 999\n",
      "Data columns (total 7 columns):\n",
      " #   Column            Non-Null Count  Dtype  \n",
      "---  ------            --------------  -----  \n",
      " 0   customer_id       1000 non-null   int64  \n",
      " 1   customer_name     1000 non-null   object \n",
      " 2   transaction_date  1000 non-null   object \n",
      " 3   email_address     1000 non-null   object \n",
      " 4   phone_number      1000 non-null   int64  \n",
      " 5   amount            1000 non-null   float64\n",
      " 6   product           1000 non-null   object \n",
      "dtypes: float64(1), int64(2), object(4)\n",
      "memory usage: 54.8+ KB\n"
     ]
    }
   ],
   "source": [
    "sales_df.info()"
   ]
  },
  {
   "cell_type": "code",
   "execution_count": 12,
   "metadata": {},
   "outputs": [],
   "source": [
    "carts_dim = carts_df.copy().drop_duplicates()"
   ]
  },
  {
   "cell_type": "code",
   "execution_count": 13,
   "metadata": {},
   "outputs": [],
   "source": [
    "products_dim = products_df.copy().drop_duplicates()"
   ]
  },
  {
   "cell_type": "code",
   "execution_count": 14,
   "metadata": {},
   "outputs": [],
   "source": [
    "user_dim = users_df[['id', 'email', 'username', 'phone', 'address_street', 'name_lastname', 'name_firstname']]"
   ]
  },
  {
   "cell_type": "code",
   "execution_count": 15,
   "metadata": {},
   "outputs": [],
   "source": [
    "location_dim = users_df[['address_city', 'address_street', 'address_number', 'address_zipcode', 'address_geolocation_lat', 'address_geolocation_long']]"
   ]
  },
  {
   "cell_type": "code",
   "execution_count": 16,
   "metadata": {},
   "outputs": [],
   "source": [
    "location_dim = location_dim.reset_index(drop=True)\n",
    "location_dim['locationID'] = range(1, len(location_dim) + 1)"
   ]
  },
  {
   "cell_type": "code",
   "execution_count": 17,
   "metadata": {},
   "outputs": [
    {
     "data": {
      "text/html": [
       "<div>\n",
       "<style scoped>\n",
       "    .dataframe tbody tr th:only-of-type {\n",
       "        vertical-align: middle;\n",
       "    }\n",
       "\n",
       "    .dataframe tbody tr th {\n",
       "        vertical-align: top;\n",
       "    }\n",
       "\n",
       "    .dataframe thead th {\n",
       "        text-align: right;\n",
       "    }\n",
       "</style>\n",
       "<table border=\"1\" class=\"dataframe\">\n",
       "  <thead>\n",
       "    <tr style=\"text-align: right;\">\n",
       "      <th></th>\n",
       "      <th>address_city</th>\n",
       "      <th>address_street</th>\n",
       "      <th>address_number</th>\n",
       "      <th>address_zipcode</th>\n",
       "      <th>address_geolocation_lat</th>\n",
       "      <th>address_geolocation_long</th>\n",
       "      <th>locationID</th>\n",
       "    </tr>\n",
       "  </thead>\n",
       "  <tbody>\n",
       "    <tr>\n",
       "      <th>0</th>\n",
       "      <td>kilcoole</td>\n",
       "      <td>new road</td>\n",
       "      <td>7682</td>\n",
       "      <td>12926-3874</td>\n",
       "      <td>-37.3159</td>\n",
       "      <td>81.1496</td>\n",
       "      <td>1</td>\n",
       "    </tr>\n",
       "    <tr>\n",
       "      <th>1</th>\n",
       "      <td>kilcoole</td>\n",
       "      <td>Lovers Ln</td>\n",
       "      <td>7267</td>\n",
       "      <td>12926-3874</td>\n",
       "      <td>-37.3159</td>\n",
       "      <td>81.1496</td>\n",
       "      <td>2</td>\n",
       "    </tr>\n",
       "    <tr>\n",
       "      <th>2</th>\n",
       "      <td>Cullman</td>\n",
       "      <td>Frances Ct</td>\n",
       "      <td>86</td>\n",
       "      <td>29567-1452</td>\n",
       "      <td>40.3467</td>\n",
       "      <td>-30.1310</td>\n",
       "      <td>3</td>\n",
       "    </tr>\n",
       "    <tr>\n",
       "      <th>3</th>\n",
       "      <td>San Antonio</td>\n",
       "      <td>Hunters Creek Dr</td>\n",
       "      <td>6454</td>\n",
       "      <td>98234-1734</td>\n",
       "      <td>50.3467</td>\n",
       "      <td>-20.1310</td>\n",
       "      <td>4</td>\n",
       "    </tr>\n",
       "    <tr>\n",
       "      <th>4</th>\n",
       "      <td>san Antonio</td>\n",
       "      <td>adams St</td>\n",
       "      <td>245</td>\n",
       "      <td>80796-1234</td>\n",
       "      <td>40.3467</td>\n",
       "      <td>-40.1310</td>\n",
       "      <td>5</td>\n",
       "    </tr>\n",
       "  </tbody>\n",
       "</table>\n",
       "</div>"
      ],
      "text/plain": [
       "  address_city    address_street  address_number address_zipcode  \\\n",
       "0     kilcoole          new road            7682      12926-3874   \n",
       "1     kilcoole         Lovers Ln            7267      12926-3874   \n",
       "2      Cullman        Frances Ct              86      29567-1452   \n",
       "3  San Antonio  Hunters Creek Dr            6454      98234-1734   \n",
       "4  san Antonio          adams St             245      80796-1234   \n",
       "\n",
       "  address_geolocation_lat address_geolocation_long  locationID  \n",
       "0                -37.3159                  81.1496           1  \n",
       "1                -37.3159                  81.1496           2  \n",
       "2                 40.3467                 -30.1310           3  \n",
       "3                 50.3467                 -20.1310           4  \n",
       "4                 40.3467                 -40.1310           5  "
      ]
     },
     "execution_count": 17,
     "metadata": {},
     "output_type": "execute_result"
    }
   ],
   "source": [
    "location_dim.head()"
   ]
  },
  {
   "cell_type": "code",
   "execution_count": 18,
   "metadata": {},
   "outputs": [],
   "source": [
    "user_dim = user_dim.merge(location_dim, on = 'address_street', how='inner')"
   ]
  },
  {
   "cell_type": "code",
   "execution_count": 19,
   "metadata": {},
   "outputs": [],
   "source": [
    "user_dim = user_dim.drop(['address_city', 'address_street', 'address_number', 'address_zipcode', 'address_geolocation_lat', 'address_geolocation_long'], axis=1)"
   ]
  },
  {
   "cell_type": "code",
   "execution_count": 20,
   "metadata": {},
   "outputs": [
    {
     "data": {
      "text/html": [
       "<div>\n",
       "<style scoped>\n",
       "    .dataframe tbody tr th:only-of-type {\n",
       "        vertical-align: middle;\n",
       "    }\n",
       "\n",
       "    .dataframe tbody tr th {\n",
       "        vertical-align: top;\n",
       "    }\n",
       "\n",
       "    .dataframe thead th {\n",
       "        text-align: right;\n",
       "    }\n",
       "</style>\n",
       "<table border=\"1\" class=\"dataframe\">\n",
       "  <thead>\n",
       "    <tr style=\"text-align: right;\">\n",
       "      <th></th>\n",
       "      <th>id</th>\n",
       "      <th>email</th>\n",
       "      <th>username</th>\n",
       "      <th>phone</th>\n",
       "      <th>name_lastname</th>\n",
       "      <th>name_firstname</th>\n",
       "      <th>locationID</th>\n",
       "    </tr>\n",
       "  </thead>\n",
       "  <tbody>\n",
       "    <tr>\n",
       "      <th>0</th>\n",
       "      <td>1</td>\n",
       "      <td>john@gmail.com</td>\n",
       "      <td>johnd</td>\n",
       "      <td>1-570-236-7033</td>\n",
       "      <td>doe</td>\n",
       "      <td>john</td>\n",
       "      <td>1</td>\n",
       "    </tr>\n",
       "    <tr>\n",
       "      <th>1</th>\n",
       "      <td>2</td>\n",
       "      <td>morrison@gmail.com</td>\n",
       "      <td>mor_2314</td>\n",
       "      <td>1-570-236-7033</td>\n",
       "      <td>morrison</td>\n",
       "      <td>david</td>\n",
       "      <td>2</td>\n",
       "    </tr>\n",
       "    <tr>\n",
       "      <th>2</th>\n",
       "      <td>3</td>\n",
       "      <td>kevin@gmail.com</td>\n",
       "      <td>kevinryan</td>\n",
       "      <td>1-567-094-1345</td>\n",
       "      <td>ryan</td>\n",
       "      <td>kevin</td>\n",
       "      <td>3</td>\n",
       "    </tr>\n",
       "    <tr>\n",
       "      <th>3</th>\n",
       "      <td>4</td>\n",
       "      <td>don@gmail.com</td>\n",
       "      <td>donero</td>\n",
       "      <td>1-765-789-6734</td>\n",
       "      <td>romer</td>\n",
       "      <td>don</td>\n",
       "      <td>4</td>\n",
       "    </tr>\n",
       "    <tr>\n",
       "      <th>4</th>\n",
       "      <td>5</td>\n",
       "      <td>derek@gmail.com</td>\n",
       "      <td>derek</td>\n",
       "      <td>1-956-001-1945</td>\n",
       "      <td>powell</td>\n",
       "      <td>derek</td>\n",
       "      <td>5</td>\n",
       "    </tr>\n",
       "  </tbody>\n",
       "</table>\n",
       "</div>"
      ],
      "text/plain": [
       "   id               email   username           phone name_lastname  \\\n",
       "0   1      john@gmail.com      johnd  1-570-236-7033           doe   \n",
       "1   2  morrison@gmail.com   mor_2314  1-570-236-7033      morrison   \n",
       "2   3     kevin@gmail.com  kevinryan  1-567-094-1345          ryan   \n",
       "3   4       don@gmail.com     donero  1-765-789-6734         romer   \n",
       "4   5     derek@gmail.com      derek  1-956-001-1945        powell   \n",
       "\n",
       "  name_firstname  locationID  \n",
       "0           john           1  \n",
       "1          david           2  \n",
       "2          kevin           3  \n",
       "3            don           4  \n",
       "4          derek           5  "
      ]
     },
     "execution_count": 20,
     "metadata": {},
     "output_type": "execute_result"
    }
   ],
   "source": [
    "user_dim.head()"
   ]
  },
  {
   "cell_type": "code",
   "execution_count": 21,
   "metadata": {},
   "outputs": [],
   "source": [
    "sales_fact = sales_df[['customer_id', 'transaction_date', 'amount', 'product']]"
   ]
  },
  {
   "cell_type": "code",
   "execution_count": 22,
   "metadata": {},
   "outputs": [],
   "source": [
    "sales_fact = sales_fact.reset_index(drop=True)\n",
    "sales_fact['salesID'] = range(1, len(sales_fact) + 1)"
   ]
  },
  {
   "cell_type": "code",
   "execution_count": 23,
   "metadata": {},
   "outputs": [],
   "source": [
    "# Drop the 'title' column from the DataFrame\n",
    "products_dim = products_dim.drop(columns=['category', 'description', 'image'])\n",
    "\n",
    "# Now, products_dim DataFrame doesn't contain the 'title' column\n"
   ]
  },
  {
   "cell_type": "code",
   "execution_count": 24,
   "metadata": {},
   "outputs": [
    {
     "data": {
      "text/html": [
       "<div>\n",
       "<style scoped>\n",
       "    .dataframe tbody tr th:only-of-type {\n",
       "        vertical-align: middle;\n",
       "    }\n",
       "\n",
       "    .dataframe tbody tr th {\n",
       "        vertical-align: top;\n",
       "    }\n",
       "\n",
       "    .dataframe thead th {\n",
       "        text-align: right;\n",
       "    }\n",
       "</style>\n",
       "<table border=\"1\" class=\"dataframe\">\n",
       "  <thead>\n",
       "    <tr style=\"text-align: right;\">\n",
       "      <th></th>\n",
       "      <th>id</th>\n",
       "      <th>title</th>\n",
       "      <th>price</th>\n",
       "    </tr>\n",
       "  </thead>\n",
       "  <tbody>\n",
       "    <tr>\n",
       "      <th>0</th>\n",
       "      <td>1</td>\n",
       "      <td>Fjallraven - Foldsack No. 1 Backpack, Fits 15 ...</td>\n",
       "      <td>109.95</td>\n",
       "    </tr>\n",
       "    <tr>\n",
       "      <th>1</th>\n",
       "      <td>2</td>\n",
       "      <td>Mens Casual Premium Slim Fit T-Shirts</td>\n",
       "      <td>22.30</td>\n",
       "    </tr>\n",
       "    <tr>\n",
       "      <th>2</th>\n",
       "      <td>3</td>\n",
       "      <td>Mens Cotton Jacket</td>\n",
       "      <td>55.99</td>\n",
       "    </tr>\n",
       "    <tr>\n",
       "      <th>3</th>\n",
       "      <td>4</td>\n",
       "      <td>Mens Casual Slim Fit</td>\n",
       "      <td>15.99</td>\n",
       "    </tr>\n",
       "    <tr>\n",
       "      <th>4</th>\n",
       "      <td>5</td>\n",
       "      <td>John Hardy Women's Legends Naga Gold &amp; Silver ...</td>\n",
       "      <td>695.00</td>\n",
       "    </tr>\n",
       "  </tbody>\n",
       "</table>\n",
       "</div>"
      ],
      "text/plain": [
       "   id                                              title   price\n",
       "0   1  Fjallraven - Foldsack No. 1 Backpack, Fits 15 ...  109.95\n",
       "1   2             Mens Casual Premium Slim Fit T-Shirts    22.30\n",
       "2   3                                 Mens Cotton Jacket   55.99\n",
       "3   4                               Mens Casual Slim Fit   15.99\n",
       "4   5  John Hardy Women's Legends Naga Gold & Silver ...  695.00"
      ]
     },
     "execution_count": 24,
     "metadata": {},
     "output_type": "execute_result"
    }
   ],
   "source": [
    "products_dim.head()"
   ]
  },
  {
   "cell_type": "code",
   "execution_count": 25,
   "metadata": {},
   "outputs": [],
   "source": [
    "carts_dim = carts_dim.drop(columns=['products'])"
   ]
  },
  {
   "cell_type": "code",
   "execution_count": 26,
   "metadata": {},
   "outputs": [],
   "source": [
    "carts_dim.to_csv('carts_dim.csv', index=False)\n",
    "user_dim.to_csv('user_dim.csv', index=False)\n",
    "products_dim.to_csv('products_dim.csv', index=False)\n",
    "sales_fact.to_csv('sales_fact.csv', index=False)\n",
    "location_dim.to_csv('location_dim.csv', index=False)"
   ]
  },
  {
   "cell_type": "markdown",
   "metadata": {},
   "source": [
    "# Loading Layer"
   ]
  },
  {
   "cell_type": "code",
   "execution_count": 27,
   "metadata": {},
   "outputs": [],
   "source": [
    "# 1st save to s3 bucket........ boto3\n",
    "# 2nd save to aws redshift"
   ]
  },
  {
   "cell_type": "markdown",
   "metadata": {},
   "source": [
    "##  Loading into S3"
   ]
  },
  {
   "cell_type": "code",
   "execution_count": 22,
   "metadata": {},
   "outputs": [
    {
     "name": "stderr",
     "output_type": "stream",
     "text": [
      "c:\\Users\\Technology\\anaconda3\\lib\\site-packages\\pyarrow\\pandas_compat.py:373: FutureWarning: is_sparse is deprecated and will be removed in a future version. Check `isinstance(dtype, pd.SparseDtype)` instead.\n",
      "  if _pandas_api.is_sparse(col):\n"
     ]
    },
    {
     "name": "stdout",
     "output_type": "stream",
     "text": [
      "rawdata/carts.parquet uploaded to S3 bucket mykongo-ecommerce successfully\n",
      "rawdata/sales.parquet uploaded to S3 bucket mykongo-ecommerce successfully\n",
      "rawdata/products.parquet uploaded to S3 bucket mykongo-ecommerce successfully\n",
      "rawdata/users.parquet uploaded to S3 bucket mykongo-ecommerce successfully\n"
     ]
    }
   ],
   "source": [
    "# Initialize boto3 client\n",
    "s3_client = boto3.client(\n",
    "    's3',\n",
    "    aws_access_key_id='*************',\n",
    "    aws_secret_access_key='*************',\n",
    "    region_name='*************'\n",
    ")\n",
    "\n",
    "# Function to upload Dataframe to s3 bucket as a parquet     [! pip install pyarrow]\n",
    "def upload_df_to_s3_as_parquet(df, bucket, key):\n",
    "    buffer = io.BytesIO()\n",
    "    df.to_parquet(buffer, index=False)\n",
    "    buffer.seek(0)\n",
    "    s3_client.upload_fileobj(buffer, bucket, key)\n",
    "    print(f'{key} uploaded to S3 bucket {bucket} successfully')\n",
    "\n",
    "\n",
    "# S3 bucket name \n",
    "bucket_name = 'mykongo-ecommerce'\n",
    "\n",
    "# Upload the dataframe to s3 bucket\n",
    "upload_df_to_s3_as_parquet(carts_df, bucket_name, 'rawdata/carts.parquet')\n",
    "upload_df_to_s3_as_parquet(sales_df, bucket_name, 'rawdata/sales.parquet')\n",
    "upload_df_to_s3_as_parquet(products_df, bucket_name, 'rawdata/products.parquet')\n",
    "upload_df_to_s3_as_parquet(users_df, bucket_name, 'rawdata/users.parquet')"
   ]
  },
  {
   "cell_type": "code",
   "execution_count": 23,
   "metadata": {},
   "outputs": [
    {
     "name": "stdout",
     "output_type": "stream",
     "text": [
      "transformeddata/carts_dim.parquet uploaded to S3 bucket mykongo-ecommerce successfully\n",
      "transformeddata/location_dim.parquet uploaded to S3 bucket mykongo-ecommerce successfully\n",
      "transformeddata/sales_fact.parquet uploaded to S3 bucket mykongo-ecommerce successfully\n",
      "transformeddata/products_dim.parquet uploaded to S3 bucket mykongo-ecommerce successfully\n",
      "transformeddata/user_dim.parquet uploaded to S3 bucket mykongo-ecommerce successfully\n"
     ]
    }
   ],
   "source": [
    "# Initialize boto3 client\n",
    "s3_client = boto3.client(\n",
    "    's3',\n",
    "    aws_access_key_id='*************',\n",
    "    aws_secret_access_key='*************',\n",
    "    region_name='*************'\n",
    ")\n",
    "\n",
    "# Function to upload Dataframe to s3 bucket as a parquet\n",
    "def upload_df_to_s3_as_parquet(df, bucket, key):\n",
    "    buffer = io.BytesIO()\n",
    "    df.to_parquet(buffer, index=False)\n",
    "    buffer.seek(0)\n",
    "    s3_client.upload_fileobj(buffer, bucket, key)\n",
    "    print(f'{key} uploaded to S3 bucket {bucket} successfully')\n",
    "\n",
    "\n",
    "# S3 bucket name \n",
    "bucket_name = 'mykongo-ecommerce'\n",
    "\n",
    "# Upload the dataframe to s3 bucket\n",
    "upload_df_to_s3_as_parquet(carts_dim, bucket_name, 'transformeddata/carts_dim.parquet')\n",
    "upload_df_to_s3_as_parquet(location_dim, bucket_name, 'transformeddata/location_dim.parquet')\n",
    "upload_df_to_s3_as_parquet(sales_fact, bucket_name, 'transformeddata/sales_fact.parquet')\n",
    "upload_df_to_s3_as_parquet(products_dim, bucket_name, 'transformeddata/products_dim.parquet')\n",
    "upload_df_to_s3_as_parquet(user_dim, bucket_name, 'transformeddata/user_dim.parquet')"
   ]
  },
  {
   "cell_type": "code",
   "execution_count": 24,
   "metadata": {},
   "outputs": [
    {
     "name": "stdout",
     "output_type": "stream",
     "text": [
      "File uploaded to S3://mykongo-ecommerce/transformeddata/location_dim.csv\n",
      "File uploaded to S3://mykongo-ecommerce/transformeddata/carts_dim.csv\n",
      "File uploaded to S3://mykongo-ecommerce/transformeddata/products_dim.csv\n",
      "File uploaded to S3://mykongo-ecommerce/transformeddata/sales_fact.csv\n",
      "File uploaded to S3://mykongo-ecommerce/transformeddata/user_dim.csv\n"
     ]
    }
   ],
   "source": [
    "# AWS credentials\n",
    "aws_access_key_id = '*************'\n",
    "aws_secret_access_key = '*************'\n",
    "\n",
    "files = ['location_dim', 'carts_dim', 'products_dim', 'sales_fact', 'user_dim']\n",
    "\n",
    "for file in files:\n",
    "    # S3 bucket and object key for the data file\n",
    "    s3_bucket = 'mykongo-ecommerce'\n",
    "    s3_key = f'transformeddata/{file}.csv'\n",
    "\n",
    "    # Local path to the data file\n",
    "    local_data_file_path = f\"{file}.csv\"\n",
    "\n",
    "    def upload_to_s3(file_path, bucket, object_key):\n",
    "        try:\n",
    "            s3 = boto3.client('s3', aws_access_key_id=aws_access_key_id,\n",
    "                            aws_secret_access_key=aws_secret_access_key)\n",
    "            s3.upload_file(file_path, bucket, object_key)\n",
    "            print(f\"File uploaded to S3://{bucket}/{object_key}\")\n",
    "        except NoCredentialsError:\n",
    "            print(\"Credentials not available or incorrect.\")\n",
    "\n",
    "    upload_to_s3(local_data_file_path, s3_bucket, s3_key)"
   ]
  },
  {
   "cell_type": "code",
   "execution_count": null,
   "metadata": {},
   "outputs": [],
   "source": [
    "# Load transformed data to redshift\n",
    "#! pip install redshift-connector"
   ]
  },
  {
   "cell_type": "code",
   "execution_count": 25,
   "metadata": {},
   "outputs": [],
   "source": [
    "# Connect to Redshift cluster using AWS credentials\n",
    "conn = redshift_connector.connect(\n",
    "    host='************************',\n",
    "    database='*****',\n",
    "    user='**********',\n",
    "    password='***********'\n",
    "    )\n"
   ]
  },
  {
   "cell_type": "code",
   "execution_count": 26,
   "metadata": {},
   "outputs": [],
   "source": [
    "conn.autocommit = True"
   ]
  },
  {
   "cell_type": "markdown",
   "metadata": {},
   "source": [
    "## Generate Create table query satements for our dimension tables"
   ]
  },
  {
   "cell_type": "code",
   "execution_count": 27,
   "metadata": {},
   "outputs": [
    {
     "name": "stdout",
     "output_type": "stream",
     "text": [
      "CREATE TABLE \"carts_dim\" (\n",
      "\"id\" INTEGER,\n",
      "  \"userid\" INTEGER,\n",
      "  \"date\" TIMESTAMP\n",
      ")\n"
     ]
    }
   ],
   "source": [
    "carts_dimsql = pd.io.sql.get_schema(carts_dim, 'carts_dim')\n",
    "print(''.join(carts_dimsql)) "
   ]
  },
  {
   "cell_type": "code",
   "execution_count": 28,
   "metadata": {},
   "outputs": [
    {
     "name": "stdout",
     "output_type": "stream",
     "text": [
      "CREATE TABLE \"products_dim\" (\n",
      "\"id\" INTEGER,\n",
      "  \"title\" TEXT,\n",
      "  \"price\" REAL\n",
      ")\n"
     ]
    }
   ],
   "source": [
    "products_dimsql = pd.io.sql.get_schema(products_dim, 'products_dim')\n",
    "print(''.join(products_dimsql)) "
   ]
  },
  {
   "cell_type": "code",
   "execution_count": 29,
   "metadata": {},
   "outputs": [
    {
     "name": "stdout",
     "output_type": "stream",
     "text": [
      "CREATE TABLE \"location_dim\" (\n",
      "\"address_city\" TEXT,\n",
      "  \"address_street\" TEXT,\n",
      "  \"address_number\" INTEGER,\n",
      "  \"address_zipcode\" TEXT,\n",
      "  \"address_geolocation_lat\" TEXT,\n",
      "  \"address_geolocation_long\" TEXT,\n",
      "  \"locationID\" INTEGER\n",
      ")\n"
     ]
    }
   ],
   "source": [
    "location_dimsql = pd.io.sql.get_schema(location_dim, 'location_dim')\n",
    "print(''.join(location_dimsql)) "
   ]
  },
  {
   "cell_type": "code",
   "execution_count": 30,
   "metadata": {},
   "outputs": [
    {
     "name": "stdout",
     "output_type": "stream",
     "text": [
      "CREATE TABLE \"user_dim\" (\n",
      "\"id\" INTEGER,\n",
      "  \"email\" TEXT,\n",
      "  \"username\" TEXT,\n",
      "  \"phone\" TEXT,\n",
      "  \"name_lastname\" TEXT,\n",
      "  \"name_firstname\" TEXT,\n",
      "  \"locationID\" INTEGER\n",
      ")\n"
     ]
    }
   ],
   "source": [
    "user_dimsql = pd.io.sql.get_schema(user_dim, 'user_dim')\n",
    "print(''.join(user_dimsql)) "
   ]
  },
  {
   "cell_type": "code",
   "execution_count": 31,
   "metadata": {},
   "outputs": [
    {
     "name": "stdout",
     "output_type": "stream",
     "text": [
      "CREATE TABLE \"sales_fact\" (\n",
      "\"customer_id\" INTEGER,\n",
      "  \"transaction_date\" DATE,\n",
      "  \"amount\" REAL,\n",
      "  \"product\" TEXT,\n",
      "  \"salesID\" INTEGER\n",
      ")\n"
     ]
    }
   ],
   "source": [
    "sales_factsql = pd.io.sql.get_schema(sales_fact, 'sales_fact')\n",
    "print(''.join(sales_factsql)) "
   ]
  },
  {
   "cell_type": "code",
   "execution_count": 63,
   "metadata": {},
   "outputs": [
    {
     "name": "stderr",
     "output_type": "stream",
     "text": [
      "ERROR: Could not find a version that satisfies the requirement os (from versions: none)\n",
      "ERROR: No matching distribution found for os\n"
     ]
    }
   ],
   "source": [
    "! pip install os"
   ]
  },
  {
   "cell_type": "markdown",
   "metadata": {},
   "source": [
    "## Next step to create tables on redshift"
   ]
  },
  {
   "cell_type": "code",
   "execution_count": 32,
   "metadata": {},
   "outputs": [],
   "source": [
    "cursor = redshift_connector.Cursor = conn.cursor()"
   ]
  },
  {
   "cell_type": "code",
   "execution_count": 33,
   "metadata": {},
   "outputs": [
    {
     "data": {
      "text/plain": [
       "<redshift_connector.cursor.Cursor at 0x21911720d00>"
      ]
     },
     "execution_count": 33,
     "metadata": {},
     "output_type": "execute_result"
    }
   ],
   "source": [
    "cursor.execute(\"\"\"\n",
    "CREATE TABLE \"carts_dim\" (\n",
    "\"id\" INTEGER,\n",
    "  \"userid\" INTEGER,\n",
    "  \"date\" TIMESTAMP\n",
    ")\n",
    "\"\"\")"
   ]
  },
  {
   "cell_type": "code",
   "execution_count": 34,
   "metadata": {},
   "outputs": [
    {
     "data": {
      "text/plain": [
       "<redshift_connector.cursor.Cursor at 0x21911720d00>"
      ]
     },
     "execution_count": 34,
     "metadata": {},
     "output_type": "execute_result"
    }
   ],
   "source": [
    "cursor.execute(\"\"\"\n",
    "CREATE TABLE \"products_dim\" (\n",
    "\"id\" INTEGER,\n",
    "  \"title\" varchar(65535),\n",
    "  \"price\" REAL\n",
    ")\n",
    "\"\"\")"
   ]
  },
  {
   "cell_type": "code",
   "execution_count": 35,
   "metadata": {},
   "outputs": [
    {
     "data": {
      "text/plain": [
       "<redshift_connector.cursor.Cursor at 0x21911720d00>"
      ]
     },
     "execution_count": 35,
     "metadata": {},
     "output_type": "execute_result"
    }
   ],
   "source": [
    "cursor.execute(\"\"\"\n",
    "CREATE TABLE \"location_dim\" (\n",
    "\"address_city\" TEXT,\n",
    "  \"address_street\" TEXT,\n",
    "  \"address_number\" INTEGER,\n",
    "  \"address_zipcode\" TEXT,\n",
    "  \"address_geolocation_lat\" TEXT,\n",
    "  \"address_geolocation_long\" TEXT,\n",
    "  \"locationID\" INTEGER\n",
    ")\n",
    "\"\"\")"
   ]
  },
  {
   "cell_type": "code",
   "execution_count": 36,
   "metadata": {},
   "outputs": [
    {
     "data": {
      "text/plain": [
       "<redshift_connector.cursor.Cursor at 0x21911720d00>"
      ]
     },
     "execution_count": 36,
     "metadata": {},
     "output_type": "execute_result"
    }
   ],
   "source": [
    "cursor.execute(\"\"\"\n",
    "CREATE TABLE \"user_dim\" (\n",
    "\"id\" INTEGER,\n",
    "  \"email\" TEXT,\n",
    "  \"username\" TEXT,\n",
    "  \"phone\" TEXT,\n",
    "  \"name_lastname\" TEXT,\n",
    "  \"name_firstname\" TEXT,\n",
    "  \"locationID\" INTEGER\n",
    ")\n",
    "\"\"\")"
   ]
  },
  {
   "cell_type": "code",
   "execution_count": 37,
   "metadata": {},
   "outputs": [
    {
     "data": {
      "text/plain": [
       "<redshift_connector.cursor.Cursor at 0x21911720d00>"
      ]
     },
     "execution_count": 37,
     "metadata": {},
     "output_type": "execute_result"
    }
   ],
   "source": [
    "cursor.execute(\"\"\"\n",
    "CREATE TABLE \"sales_fact\" (\n",
    "\"customer_id\" INTEGER,\n",
    "  \"transaction_date\" DATE,\n",
    "  \"amount\" REAL,\n",
    "  \"product\" TEXT,\n",
    "  \"salesID\" INTEGER\n",
    ")\n",
    "\"\"\")"
   ]
  },
  {
   "cell_type": "markdown",
   "metadata": {},
   "source": [
    "## Copy the data from the csv file in s3 to our redshift tables"
   ]
  },
  {
   "cell_type": "code",
   "execution_count": 39,
   "metadata": {},
   "outputs": [
    {
     "data": {
      "text/plain": [
       "<redshift_connector.cursor.Cursor at 0x21911720d00>"
      ]
     },
     "execution_count": 39,
     "metadata": {},
     "output_type": "execute_result"
    }
   ],
   "source": [
    "cursor.execute(\"\"\"\n",
    "copy carts_dim from '******************************' \n",
    "credentials '***********************************************************************'\n",
    "delimiter ','\n",
    "region 'us-east-1'\n",
    "IGNOREHEADER 1\n",
    "\"\"\")"
   ]
  },
  {
   "cell_type": "code",
   "execution_count": 40,
   "metadata": {},
   "outputs": [
    {
     "data": {
      "text/plain": [
       "<redshift_connector.cursor.Cursor at 0x21911720d00>"
      ]
     },
     "execution_count": 40,
     "metadata": {},
     "output_type": "execute_result"
    }
   ],
   "source": [
    "cursor.execute(\"\"\"\n",
    "COPY products_dim FROM '**************************************************'\n",
    "CREDENTIALS '***********************************************************************'\n",
    "delimiter ','\n",
    "region 'us-east-1'\n",
    "IGNOREHEADER 2\n",
    "\"\"\")"
   ]
  },
  {
   "cell_type": "code",
   "execution_count": 41,
   "metadata": {},
   "outputs": [
    {
     "data": {
      "text/plain": [
       "<redshift_connector.cursor.Cursor at 0x21911720d00>"
      ]
     },
     "execution_count": 41,
     "metadata": {},
     "output_type": "execute_result"
    }
   ],
   "source": [
    "cursor.execute(\"\"\"\n",
    "copy location_dim from '******************************************'\n",
    "credentials '***********************************************************************'\n",
    "delimiter ','\n",
    "region 'us-east-1'\n",
    "IGNOREHEADER 1\n",
    "\"\"\")"
   ]
  },
  {
   "cell_type": "code",
   "execution_count": 42,
   "metadata": {},
   "outputs": [
    {
     "data": {
      "text/plain": [
       "<redshift_connector.cursor.Cursor at 0x21911720d00>"
      ]
     },
     "execution_count": 42,
     "metadata": {},
     "output_type": "execute_result"
    }
   ],
   "source": [
    "cursor.execute(\"\"\"\n",
    "copy sales_fact from '*************************************************'\n",
    "credentials '***********************************************************************'\n",
    "delimiter ','\n",
    "region 'us-east-1'\n",
    "IGNOREHEADER 1\n",
    "\"\"\")"
   ]
  },
  {
   "cell_type": "code",
   "execution_count": null,
   "metadata": {},
   "outputs": [],
   "source": []
  }
 ],
 "metadata": {
  "kernelspec": {
   "display_name": "base",
   "language": "python",
   "name": "python3"
  },
  "language_info": {
   "codemirror_mode": {
    "name": "ipython",
    "version": 3
   },
   "file_extension": ".py",
   "mimetype": "text/x-python",
   "name": "python",
   "nbconvert_exporter": "python",
   "pygments_lexer": "ipython3",
   "version": "3.9.18"
  }
 },
 "nbformat": 4,
 "nbformat_minor": 2
}
